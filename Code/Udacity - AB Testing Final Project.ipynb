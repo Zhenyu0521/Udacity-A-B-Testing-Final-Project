{
 "cells": [
  {
   "cell_type": "code",
   "execution_count": 32,
   "metadata": {},
   "outputs": [],
   "source": [
    "import numpy as np\n",
    "import pandas as pd\n",
    "from scipy import stats\n",
    "from scipy.special import comb "
   ]
  },
  {
   "cell_type": "markdown",
   "metadata": {},
   "source": [
    "## Measuring Variability"
   ]
  },
  {
   "cell_type": "code",
   "execution_count": 4,
   "metadata": {},
   "outputs": [],
   "source": [
    "baseline = {'Cookies': 5000,\n",
    "            'Click': 400,\n",
    "            'Enrollment': 82.5,\n",
    "            'CTP': 0.08,\n",
    "            'GC': 0.20625,\n",
    "            'R': 0.53,\n",
    "            'NC': 0.1093125}"
   ]
  },
  {
   "cell_type": "code",
   "execution_count": 5,
   "metadata": {},
   "outputs": [
    {
     "name": "stdout",
     "output_type": "stream",
     "text": [
      "The standard variability of gross conversion is 0.020230604137049392, retention is 0.05494901217850908, and net conversion is 0.01560154458248846\n"
     ]
    }
   ],
   "source": [
    "std_GC = np.sqrt(baseline['GC']*(1-baseline['GC'])/baseline['Click'])\n",
    "std_R  = np.sqrt(baseline['R']*(1-baseline['R'])/baseline['Enrollment'])\n",
    "std_NC = np.sqrt(baseline['NC']*(1-baseline['NC'])/baseline['Click'])\n",
    "print(\"The standard variability of gross conversion is {}, retention is {}, and net conversion is {}\".format(std_GC, std_R, std_NC))"
   ]
  },
  {
   "cell_type": "markdown",
   "metadata": {},
   "source": [
    "## Designing Experiment"
   ]
  },
  {
   "cell_type": "markdown",
   "metadata": {},
   "source": [
    "### Sizing\n",
    "\n",
    "The [Online_Sample_Size_Calculator](http://www.evanmiller.org/ab-testing/sample-size.html) is a convenient way to determine sample size. alpha=0.5, beta=0.2 "
   ]
  },
  {
   "cell_type": "code",
   "execution_count": 10,
   "metadata": {},
   "outputs": [
    {
     "data": {
      "text/html": [
       "<div>\n",
       "<style scoped>\n",
       "    .dataframe tbody tr th:only-of-type {\n",
       "        vertical-align: middle;\n",
       "    }\n",
       "\n",
       "    .dataframe tbody tr th {\n",
       "        vertical-align: top;\n",
       "    }\n",
       "\n",
       "    .dataframe thead th {\n",
       "        text-align: right;\n",
       "    }\n",
       "</style>\n",
       "<table border=\"1\" class=\"dataframe\">\n",
       "  <thead>\n",
       "    <tr style=\"text-align: right;\">\n",
       "      <th></th>\n",
       "      <th>Sample Size</th>\n",
       "      <th>Number of Cookies</th>\n",
       "    </tr>\n",
       "  </thead>\n",
       "  <tbody>\n",
       "    <tr>\n",
       "      <th>GC</th>\n",
       "      <td>25835</td>\n",
       "      <td>645875</td>\n",
       "    </tr>\n",
       "    <tr>\n",
       "      <th>R</th>\n",
       "      <td>39115</td>\n",
       "      <td>4741212</td>\n",
       "    </tr>\n",
       "    <tr>\n",
       "      <th>NC</th>\n",
       "      <td>27413</td>\n",
       "      <td>685325</td>\n",
       "    </tr>\n",
       "  </tbody>\n",
       "</table>\n",
       "</div>"
      ],
      "text/plain": [
       "    Sample Size  Number of Cookies\n",
       "GC        25835             645875\n",
       "R         39115            4741212\n",
       "NC        27413             685325"
      ]
     },
     "execution_count": 10,
     "metadata": {},
     "output_type": "execute_result"
    }
   ],
   "source": [
    "index   = ['GC', 'R', 'NC']\n",
    "columns = ['Sample Size', 'Number of Cookies']\n",
    "data    = [[25835, round(2*25835/baseline['CTP'])], \n",
    "           [39115, round(2*39115/baseline['GC']/baseline['CTP'])],\n",
    "           [27413, round(2*27413/baseline['CTP'])]]\n",
    "sample_size = pd.DataFrame(index=index, columns=columns, data=data)\n",
    "sample_size"
   ]
  },
  {
   "cell_type": "markdown",
   "metadata": {},
   "source": [
    "## Analyzing Results"
   ]
  },
  {
   "cell_type": "markdown",
   "metadata": {},
   "source": [
    "### Sanity Check"
   ]
  },
  {
   "cell_type": "code",
   "execution_count": 13,
   "metadata": {},
   "outputs": [],
   "source": [
    "control   = pd.read_excel('Final Project Results.xlsx', 0, index_col=0)\n",
    "treatment = pd.read_excel('Final Project Results.xlsx', 1, index_col=0)"
   ]
  },
  {
   "cell_type": "markdown",
   "metadata": {},
   "source": [
    "#### Pageviews"
   ]
  },
  {
   "cell_type": "code",
   "execution_count": 19,
   "metadata": {},
   "outputs": [
    {
     "data": {
      "text/plain": [
       "0.14392482085331415"
      ]
     },
     "execution_count": 19,
     "metadata": {},
     "output_type": "execute_result"
    }
   ],
   "source": [
    "pageviews_control = control.Pageviews.sum()\n",
    "pageviews_treatment = treatment.Pageviews.sum()\n",
    "pageviews_total = pageviews_control + pageviews_treatment\n",
    "stand_pageviews = (pageviews_control/pageviews_total - 0.5)/np.sqrt((0.5**2/pageviews_total))\n",
    "p_pageviews = 1-stats.norm.cdf(stand_pageviews) \n",
    "p_pageviews"
   ]
  },
  {
   "cell_type": "code",
   "execution_count": 20,
   "metadata": {},
   "outputs": [
    {
     "name": "stdout",
     "output_type": "stream",
     "text": [
      "[0.49882039214902313, 0.5011796078509769] 0.5006396668806133\n"
     ]
    }
   ],
   "source": [
    "sd_pageviews = np.sqrt(0.5*(1-0.5)/(pageviews_control+pageviews_treatment))\n",
    "me_pageviews = sd_pageviews*1.96\n",
    "ci_pageviews = [0.5-me_pageviews, 0.5+me_pageviews]\n",
    "prop_pageviews = pageviews_control/pageviews_total\n",
    "print(ci_pageviews, prop_pageviews)"
   ]
  },
  {
   "cell_type": "markdown",
   "metadata": {},
   "source": [
    "#### Clicks"
   ]
  },
  {
   "cell_type": "code",
   "execution_count": 21,
   "metadata": {},
   "outputs": [
    {
     "data": {
      "text/plain": [
       "0.41193385199077437"
      ]
     },
     "execution_count": 21,
     "metadata": {},
     "output_type": "execute_result"
    }
   ],
   "source": [
    "click_control = control.Clicks.sum()\n",
    "click_treatment = treatment.Clicks.sum()\n",
    "click_total = click_control + click_treatment\n",
    "stand_click = (click_control/click_total - 0.5)/np.sqrt((0.5**2/click_total))\n",
    "p_click = 1-stats.norm.cdf(stand_click) \n",
    "p_click"
   ]
  },
  {
   "cell_type": "markdown",
   "metadata": {},
   "source": [
    "#### Click-through-probability"
   ]
  },
  {
   "cell_type": "code",
   "execution_count": 23,
   "metadata": {},
   "outputs": [
    {
     "data": {
      "text/plain": [
       "0.4658679762236956"
      ]
     },
     "execution_count": 23,
     "metadata": {},
     "output_type": "execute_result"
    }
   ],
   "source": [
    "ctp_control = click_control/pageviews_control\n",
    "ctp_treatment = click_treatment/pageviews_treatment\n",
    "ctp_pool = click_total/pageviews_total\n",
    "ctp_std = np.sqrt(ctp_pool*(1-ctp_pool)*(1/pageviews_control + 1/pageviews_treatment))\n",
    "stand_ctp = (ctp_control-ctp_treatment)/ctp_std\n",
    "p_ctp = stats.norm.cdf(stand_ctp) \n",
    "p_ctp"
   ]
  },
  {
   "cell_type": "markdown",
   "metadata": {},
   "source": [
    "### Effect Size Tests"
   ]
  },
  {
   "cell_type": "markdown",
   "metadata": {},
   "source": [
    "#### Gross Conversion"
   ]
  },
  {
   "cell_type": "code",
   "execution_count": 25,
   "metadata": {},
   "outputs": [
    {
     "data": {
      "text/plain": [
       "1.2892005168602965e-06"
      ]
     },
     "execution_count": 25,
     "metadata": {},
     "output_type": "execute_result"
    }
   ],
   "source": [
    "# Numbers of enrollments in two groups\n",
    "enroll_control   = control.Enrollments.sum()\n",
    "enroll_treatment = treatment.Enrollments.sum()\n",
    "# Nubmers of clicks in two groups\n",
    "click_control = control.loc[control.Enrollments.notnull(), 'Clicks'].sum()\n",
    "click_treatment= treatment.loc[treatment.Enrollments.notnull(), 'Clicks'].sum()\n",
    "# Gross conversion of two groups\n",
    "gc_control   = enroll_control/click_control\n",
    "gc_treatment = enroll_treatment/click_treatment\n",
    "# p_value\n",
    "gc_diff   = gc_treatment - gc_control\n",
    "gc_pooled = (enroll_control + enroll_treatment)/(click_control + click_treatment)\n",
    "gc_sd     = np.sqrt(gc_pooled*(1-gc_pooled)*(1/click_control + 1/click_treatment))\n",
    "stand_gc  = gc_diff/gc_sd\n",
    "p_gc      = stats.norm.cdf(stand_gc)\n",
    "p_gc"
   ]
  },
  {
   "cell_type": "code",
   "execution_count": 27,
   "metadata": {},
   "outputs": [
    {
     "data": {
      "text/plain": [
       "[-0.02912320088750467, -0.011986548273218463]"
      ]
     },
     "execution_count": 27,
     "metadata": {},
     "output_type": "execute_result"
    }
   ],
   "source": [
    "ci_gc = [gc_diff-stats.norm.ppf(1-0.05/2)*gc_sd, gc_diff+stats.norm.ppf(1-0.05/2)*gc_sd]\n",
    "ci_gc"
   ]
  },
  {
   "cell_type": "markdown",
   "metadata": {},
   "source": [
    "#### Net Conversion"
   ]
  },
  {
   "cell_type": "code",
   "execution_count": 28,
   "metadata": {},
   "outputs": [
    {
     "data": {
      "text/plain": [
       "0.07792034131075103"
      ]
     },
     "execution_count": 28,
     "metadata": {},
     "output_type": "execute_result"
    }
   ],
   "source": [
    "# Numbers of payments in two groups\n",
    "pay_control   = control.Payments.sum()\n",
    "pay_treatment = treatment.Payments.sum()\n",
    "# Nubmers of clicks in two groups\n",
    "click_control = control.loc[control.Payments.notnull(), 'Clicks'].sum()\n",
    "click_treatment= treatment.loc[treatment.Payments.notnull(), 'Clicks'].sum()\n",
    "# Net conversion of two groups\n",
    "nc_control   = pay_control/click_control\n",
    "nc_treatment = pay_treatment/click_treatment\n",
    "# p_value\n",
    "nc_diff   = nc_treatment - nc_control\n",
    "nc_pooled = (pay_control + pay_treatment)/(click_control + click_treatment)\n",
    "nc_sd     = np.sqrt(nc_pooled*(1-nc_pooled)*(1/click_control + 1/click_treatment))\n",
    "stand_nc  = nc_diff/nc_sd\n",
    "p_nc      = stats.norm.cdf(stand_nc)\n",
    "p_nc"
   ]
  },
  {
   "cell_type": "code",
   "execution_count": 29,
   "metadata": {},
   "outputs": [
    {
     "data": {
      "text/plain": [
       "[-0.011604500677993734, 0.0018570553289053993]"
      ]
     },
     "execution_count": 29,
     "metadata": {},
     "output_type": "execute_result"
    }
   ],
   "source": [
    "ci_nc = [nc_diff-stats.norm.ppf(1-0.05/2)*nc_sd, nc_diff+stats.norm.ppf(1-0.05/2)*nc_sd]\n",
    "ci_nc"
   ]
  },
  {
   "cell_type": "markdown",
   "metadata": {},
   "source": [
    "### Sign Test"
   ]
  },
  {
   "cell_type": "code",
   "execution_count": 41,
   "metadata": {},
   "outputs": [],
   "source": [
    "c_t = control.merge(treatment, left_index=True, right_index=True)\n",
    "c_t = c_t.loc[c_t.Payments_x.notnull(),:]\n",
    "c_t['GC'] = c_t['Enrollments_y']/c_t['Clicks_y'] > c_t['Enrollments_x']/c_t['Clicks_x']\n",
    "c_t['NC'] = c_t['Payments_y']/c_t['Clicks_y'] > c_t['Payments_x']/c_t['Clicks_x']\n",
    "\n",
    "def sign_test(x, n):\n",
    "    def binomial(x, n):\n",
    "        return comb(n,x)*0.5**n\n",
    "    p = 0\n",
    "    for i in range(x+1):\n",
    "        p = p + binomial(i, n)\n",
    "    return p"
   ]
  },
  {
   "cell_type": "code",
   "execution_count": 43,
   "metadata": {},
   "outputs": [
    {
     "data": {
      "text/plain": [
       "0.002599477767944336"
      ]
     },
     "execution_count": 43,
     "metadata": {},
     "output_type": "execute_result"
    }
   ],
   "source": [
    "p_gc_sign = 2 * sign_test(c_t['GC'].sum(), c_t['GC'].count())\n",
    "p_gc_sign"
   ]
  },
  {
   "cell_type": "code",
   "execution_count": 45,
   "metadata": {},
   "outputs": [
    {
     "data": {
      "text/plain": [
       "0.6776394844055176"
      ]
     },
     "execution_count": 45,
     "metadata": {},
     "output_type": "execute_result"
    }
   ],
   "source": [
    "p_nc_sign = 2 * sign_test(c_t['NC'].sum(), c_t['NC'].count())\n",
    "p_nc_sign"
   ]
  },
  {
   "cell_type": "code",
   "execution_count": null,
   "metadata": {},
   "outputs": [],
   "source": []
  }
 ],
 "metadata": {
  "kernelspec": {
   "display_name": "Python 3",
   "language": "python",
   "name": "python3"
  },
  "language_info": {
   "codemirror_mode": {
    "name": "ipython",
    "version": 3
   },
   "file_extension": ".py",
   "mimetype": "text/x-python",
   "name": "python",
   "nbconvert_exporter": "python",
   "pygments_lexer": "ipython3",
   "version": "3.6.5"
  }
 },
 "nbformat": 4,
 "nbformat_minor": 2
}
